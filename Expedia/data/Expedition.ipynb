{
 "cells": [
  {
   "cell_type": "code",
   "execution_count": 4,
   "metadata": {
    "collapsed": true
   },
   "outputs": [],
   "source": [
    "import pandas as pd\n",
    "import numpy as np"
   ]
  },
  {
   "cell_type": "code",
   "execution_count": 5,
   "metadata": {
    "collapsed": true
   },
   "outputs": [],
   "source": [
    "df = pd.read_csv(\"train.csv\")\n",
    "test = pd.read_csv(\"test.csv\")"
   ]
  },
  {
   "cell_type": "code",
   "execution_count": 6,
   "metadata": {
    "collapsed": true
   },
   "outputs": [],
   "source": [
    "def create_label(click,buy):\n",
    "    if buy == 1:\n",
    "        return 5\n",
    "    elif click == 1:\n",
    "        return 1\n",
    "    else:\n",
    "        return 0"
   ]
  },
  {
   "cell_type": "code",
   "execution_count": 7,
   "metadata": {
    "collapsed": true
   },
   "outputs": [],
   "source": [
    "# create data and label\n",
    "data = df[test.columns] \n",
    "label = df['click_bool'].combine(df['booking_bool'], create_label)"
   ]
  },
  {
   "cell_type": "code",
   "execution_count": 9,
   "metadata": {
    "collapsed": false
   },
   "outputs": [],
   "source": [
    "# The original data is two large, we test our model via 10% data\n",
    "from sklearn.cross_validation import train_test_split\n",
    "one , data_sample, two, label_sample  = train_test_split(data, label, \n",
    "                                                         test_size=0.1, random_state=123, stratify=label)"
   ]
  },
  {
   "cell_type": "code",
   "execution_count": 10,
   "metadata": {
    "collapsed": false
   },
   "outputs": [],
   "source": [
    "# remove the index column\n",
    "data_sample_noindex = data_sample.drop(['srch_id', 'prop_id'], axis=1)"
   ]
  },
  {
   "cell_type": "code",
   "execution_count": 11,
   "metadata": {
    "collapsed": false
   },
   "outputs": [],
   "source": [
    "# deal with string feature. xgboost can only deal with numeric feature\n",
    "from sklearn.preprocessing import LabelEncoder\n",
    "series = data_sample_noindex['date_time']\n",
    "en = LabelEncoder()\n",
    "series = pd.Series(en.fit_transform(series), index=series.index)\n",
    "data_sample_noindex['date_time'] = series"
   ]
  },
  {
   "cell_type": "code",
   "execution_count": 13,
   "metadata": {
    "collapsed": true
   },
   "outputs": [],
   "source": [
    "# split the data into training data and test data\n",
    "train_data , test_data, train_label, test_label  = train_test_split(data_sample_noindex, label_sample, \n",
    "                                                         test_size=0.2, random_state=345, stratify=label_sample)"
   ]
  },
  {
   "cell_type": "code",
   "execution_count": 22,
   "metadata": {
    "collapsed": false
   },
   "outputs": [
    {
     "name": "stdout",
     "output_type": "stream",
     "text": [
      "[0]\tvalidation_0-ndcg@38:0.083192\tvalidation_1-ndcg@38:0.217357\n",
      "[1]\tvalidation_0-ndcg@38:0.083192\tvalidation_1-ndcg@38:0.217357\n",
      "[2]\tvalidation_0-ndcg@38:0.065215\tvalidation_1-ndcg@38:0.217493\n",
      "[3]\tvalidation_0-ndcg@38:0.087546\tvalidation_1-ndcg@38:0.108224\n",
      "[4]\tvalidation_0-ndcg@38:0.108596\tvalidation_1-ndcg@38:0.134816\n",
      "[5]\tvalidation_0-ndcg@38:0.144165\tvalidation_1-ndcg@38:0.125137\n",
      "[6]\tvalidation_0-ndcg@38:0.146741\tvalidation_1-ndcg@38:0.125137\n",
      "[7]\tvalidation_0-ndcg@38:0.146741\tvalidation_1-ndcg@38:0.125137\n",
      "[8]\tvalidation_0-ndcg@38:0.213046\tvalidation_1-ndcg@38:0.14515\n",
      "[9]\tvalidation_0-ndcg@38:0.222306\tvalidation_1-ndcg@38:0.17942\n",
      "[10]\tvalidation_0-ndcg@38:0.222306\tvalidation_1-ndcg@38:0.17942\n",
      "[11]\tvalidation_0-ndcg@38:0.222306\tvalidation_1-ndcg@38:0.17942\n",
      "[12]\tvalidation_0-ndcg@38:0.222306\tvalidation_1-ndcg@38:0.17942\n",
      "[13]\tvalidation_0-ndcg@38:0.222306\tvalidation_1-ndcg@38:0.17942\n",
      "[14]\tvalidation_0-ndcg@38:0.222306\tvalidation_1-ndcg@38:0.17942\n",
      "[15]\tvalidation_0-ndcg@38:0.276622\tvalidation_1-ndcg@38:0.282315\n",
      "[16]\tvalidation_0-ndcg@38:0.276622\tvalidation_1-ndcg@38:0.282315\n",
      "[17]\tvalidation_0-ndcg@38:0.276622\tvalidation_1-ndcg@38:0.282315\n",
      "[18]\tvalidation_0-ndcg@38:0.276622\tvalidation_1-ndcg@38:0.282315\n",
      "[19]\tvalidation_0-ndcg@38:0.276622\tvalidation_1-ndcg@38:0.282315\n",
      "[20]\tvalidation_0-ndcg@38:0.342504\tvalidation_1-ndcg@38:0.223046\n",
      "[21]\tvalidation_0-ndcg@38:0.342504\tvalidation_1-ndcg@38:0.223046\n",
      "[22]\tvalidation_0-ndcg@38:0.342504\tvalidation_1-ndcg@38:0.223046\n",
      "[23]\tvalidation_0-ndcg@38:0.388292\tvalidation_1-ndcg@38:0.252303\n",
      "[24]\tvalidation_0-ndcg@38:0.388292\tvalidation_1-ndcg@38:0.252303\n",
      "[25]\tvalidation_0-ndcg@38:0.388292\tvalidation_1-ndcg@38:0.252303\n",
      "[26]\tvalidation_0-ndcg@38:0.388292\tvalidation_1-ndcg@38:0.252303\n",
      "[27]\tvalidation_0-ndcg@38:0.388292\tvalidation_1-ndcg@38:0.252303\n",
      "[28]\tvalidation_0-ndcg@38:0.388292\tvalidation_1-ndcg@38:0.252303\n",
      "[29]\tvalidation_0-ndcg@38:0.388292\tvalidation_1-ndcg@38:0.252303\n",
      "[30]\tvalidation_0-ndcg@38:0.388292\tvalidation_1-ndcg@38:0.252303\n",
      "[31]\tvalidation_0-ndcg@38:0.296499\tvalidation_1-ndcg@38:0.252277\n",
      "[32]\tvalidation_0-ndcg@38:0.379622\tvalidation_1-ndcg@38:0.256788\n",
      "[33]\tvalidation_0-ndcg@38:0.307521\tvalidation_1-ndcg@38:0.28569\n",
      "[34]\tvalidation_0-ndcg@38:0.295104\tvalidation_1-ndcg@38:0.307762\n",
      "[35]\tvalidation_0-ndcg@38:0.295104\tvalidation_1-ndcg@38:0.307762\n",
      "[36]\tvalidation_0-ndcg@38:0.358879\tvalidation_1-ndcg@38:0.328306\n",
      "[37]\tvalidation_0-ndcg@38:0.358879\tvalidation_1-ndcg@38:0.319112\n",
      "[38]\tvalidation_0-ndcg@38:0.379516\tvalidation_1-ndcg@38:0.333184\n",
      "[39]\tvalidation_0-ndcg@38:0.406549\tvalidation_1-ndcg@38:0.331484\n",
      "[40]\tvalidation_0-ndcg@38:0.406549\tvalidation_1-ndcg@38:0.329879\n",
      "[41]\tvalidation_0-ndcg@38:0.39445\tvalidation_1-ndcg@38:0.393361\n",
      "[42]\tvalidation_0-ndcg@38:0.413596\tvalidation_1-ndcg@38:0.392423\n",
      "[43]\tvalidation_0-ndcg@38:0.403762\tvalidation_1-ndcg@38:0.396215\n",
      "[44]\tvalidation_0-ndcg@38:0.404571\tvalidation_1-ndcg@38:0.388283\n",
      "[45]\tvalidation_0-ndcg@38:0.411347\tvalidation_1-ndcg@38:0.399764\n",
      "[46]\tvalidation_0-ndcg@38:0.397361\tvalidation_1-ndcg@38:0.37489\n",
      "[47]\tvalidation_0-ndcg@38:0.397361\tvalidation_1-ndcg@38:0.390296\n",
      "[48]\tvalidation_0-ndcg@38:0.370678\tvalidation_1-ndcg@38:0.361044\n",
      "[49]\tvalidation_0-ndcg@38:0.370678\tvalidation_1-ndcg@38:0.35714\n",
      "[50]\tvalidation_0-ndcg@38:0.370678\tvalidation_1-ndcg@38:0.35714\n",
      "[51]\tvalidation_0-ndcg@38:0.370678\tvalidation_1-ndcg@38:0.342753\n",
      "[52]\tvalidation_0-ndcg@38:0.371477\tvalidation_1-ndcg@38:0.341148\n",
      "[53]\tvalidation_0-ndcg@38:0.371477\tvalidation_1-ndcg@38:0.341148\n",
      "[54]\tvalidation_0-ndcg@38:0.370851\tvalidation_1-ndcg@38:0.342181\n",
      "[55]\tvalidation_0-ndcg@38:0.371003\tvalidation_1-ndcg@38:0.344044\n",
      "[56]\tvalidation_0-ndcg@38:0.371003\tvalidation_1-ndcg@38:0.34185\n",
      "[57]\tvalidation_0-ndcg@38:0.371003\tvalidation_1-ndcg@38:0.323793\n",
      "[58]\tvalidation_0-ndcg@38:0.37091\tvalidation_1-ndcg@38:0.357489\n",
      "[59]\tvalidation_0-ndcg@38:0.369656\tvalidation_1-ndcg@38:0.34197\n",
      "[60]\tvalidation_0-ndcg@38:0.369656\tvalidation_1-ndcg@38:0.395378\n",
      "[61]\tvalidation_0-ndcg@38:0.362896\tvalidation_1-ndcg@38:0.35891\n",
      "[62]\tvalidation_0-ndcg@38:0.362896\tvalidation_1-ndcg@38:0.378062\n",
      "[63]\tvalidation_0-ndcg@38:0.360621\tvalidation_1-ndcg@38:0.395136\n",
      "[64]\tvalidation_0-ndcg@38:0.346066\tvalidation_1-ndcg@38:0.412037\n",
      "[65]\tvalidation_0-ndcg@38:0.346066\tvalidation_1-ndcg@38:0.412989\n",
      "[66]\tvalidation_0-ndcg@38:0.364377\tvalidation_1-ndcg@38:0.415619\n",
      "[67]\tvalidation_0-ndcg@38:0.363075\tvalidation_1-ndcg@38:0.432117\n",
      "[68]\tvalidation_0-ndcg@38:0.363075\tvalidation_1-ndcg@38:0.432117\n",
      "[69]\tvalidation_0-ndcg@38:0.359843\tvalidation_1-ndcg@38:0.434404\n",
      "[70]\tvalidation_0-ndcg@38:0.360441\tvalidation_1-ndcg@38:0.419009\n",
      "[71]\tvalidation_0-ndcg@38:0.359541\tvalidation_1-ndcg@38:0.398552\n",
      "[72]\tvalidation_0-ndcg@38:0.36003\tvalidation_1-ndcg@38:0.397584\n",
      "[73]\tvalidation_0-ndcg@38:0.376416\tvalidation_1-ndcg@38:0.401168\n",
      "[74]\tvalidation_0-ndcg@38:0.376416\tvalidation_1-ndcg@38:0.421494\n",
      "[75]\tvalidation_0-ndcg@38:0.376416\tvalidation_1-ndcg@38:0.42106\n",
      "[76]\tvalidation_0-ndcg@38:0.380055\tvalidation_1-ndcg@38:0.421529\n",
      "[77]\tvalidation_0-ndcg@38:0.380055\tvalidation_1-ndcg@38:0.421652\n",
      "[78]\tvalidation_0-ndcg@38:0.365067\tvalidation_1-ndcg@38:0.442699\n",
      "[79]\tvalidation_0-ndcg@38:0.365067\tvalidation_1-ndcg@38:0.426067\n",
      "[80]\tvalidation_0-ndcg@38:0.365067\tvalidation_1-ndcg@38:0.442624\n",
      "[81]\tvalidation_0-ndcg@38:0.34883\tvalidation_1-ndcg@38:0.423278\n",
      "[82]\tvalidation_0-ndcg@38:0.349559\tvalidation_1-ndcg@38:0.423416\n",
      "[83]\tvalidation_0-ndcg@38:0.349559\tvalidation_1-ndcg@38:0.423883\n",
      "[84]\tvalidation_0-ndcg@38:0.348649\tvalidation_1-ndcg@38:0.423039\n",
      "[85]\tvalidation_0-ndcg@38:0.347156\tvalidation_1-ndcg@38:0.42276\n",
      "[86]\tvalidation_0-ndcg@38:0.347156\tvalidation_1-ndcg@38:0.42333\n",
      "[87]\tvalidation_0-ndcg@38:0.346088\tvalidation_1-ndcg@38:0.426059\n",
      "[88]\tvalidation_0-ndcg@38:0.347131\tvalidation_1-ndcg@38:0.429491\n",
      "[89]\tvalidation_0-ndcg@38:0.347131\tvalidation_1-ndcg@38:0.44716\n",
      "[90]\tvalidation_0-ndcg@38:0.348248\tvalidation_1-ndcg@38:0.429368\n",
      "[91]\tvalidation_0-ndcg@38:0.348248\tvalidation_1-ndcg@38:0.429368\n",
      "[92]\tvalidation_0-ndcg@38:0.366112\tvalidation_1-ndcg@38:0.445404\n",
      "[93]\tvalidation_0-ndcg@38:0.365757\tvalidation_1-ndcg@38:0.42808\n",
      "[94]\tvalidation_0-ndcg@38:0.365757\tvalidation_1-ndcg@38:0.445735\n",
      "[95]\tvalidation_0-ndcg@38:0.365486\tvalidation_1-ndcg@38:0.416532\n",
      "[96]\tvalidation_0-ndcg@38:0.365623\tvalidation_1-ndcg@38:0.416175\n",
      "[97]\tvalidation_0-ndcg@38:0.365623\tvalidation_1-ndcg@38:0.416175\n",
      "[98]\tvalidation_0-ndcg@38:0.365018\tvalidation_1-ndcg@38:0.416674\n",
      "[99]\tvalidation_0-ndcg@38:0.362798\tvalidation_1-ndcg@38:0.415558\n"
     ]
    },
    {
     "data": {
      "text/plain": [
       "XGBRegressor(base_score=0.5, colsample_bylevel=1, colsample_bytree=1, gamma=0,\n",
       "       learning_rate=0.1, max_delta_step=0, max_depth=3,\n",
       "       min_child_weight=1, missing=None, n_estimators=100, nthread=-1,\n",
       "       objective='rank:pairwise', reg_alpha=0, reg_lambda=1,\n",
       "       scale_pos_weight=1, seed=0, silent=True, subsample=1)"
      ]
     },
     "execution_count": 22,
     "metadata": {},
     "output_type": "execute_result"
    }
   ],
   "source": [
    "# test two models\n",
    "import xgboost as xgb\n",
    "gbm = xgb.XGBRegressor(objective='rank:pairwise')\n",
    "#gbm = xgb.XGBRegressor()\n",
    "gbm.fit(train_data, train_label,\n",
    "        eval_set =[(train_data, train_label), (test_data, test_label)], \n",
    "        eval_metric=\"ndcg@38\", verbose=True)"
   ]
  },
  {
   "cell_type": "code",
   "execution_count": 24,
   "metadata": {
    "collapsed": false
   },
   "outputs": [
    {
     "data": {
      "image/png": "[encoded data removed]",
      "text/plain": [
       "<matplotlib.figure.Figure at 0x7f460d288610>"
      ]
     },
     "metadata": {},
     "output_type": "display_data"
    }
   ],
   "source": [
    "# check which parameters are not important\n",
    "%matplotlib inline\n",
    "xgb.plot_importance(gbm.booster())\n",
    "result = gbm.booster().get_fscore()"
   ]
  },
  {
   "cell_type": "code",
   "execution_count": 31,
   "metadata": {
    "collapsed": false
   },
   "outputs": [],
   "source": [
    "# remove the useless features\n",
    "se = pd.Series(result)\n",
    "important_feature = se[lambda x: x>10].index"
   ]
  },
  {
   "cell_type": "code",
   "execution_count": 32,
   "metadata": {
    "collapsed": false
   },
   "outputs": [],
   "source": [
    "# split again\n",
    "train_data , test_data, train_label, test_label  = train_test_split(data_sample_noindex[important_feature], label_sample, \n",
    "                                                         test_size=0.2, random_state=345, stratify=label_sample)"
   ]
  },
  {
   "cell_type": "code",
   "execution_count": 49,
   "metadata": {
    "collapsed": false
   },
   "outputs": [
    {
     "name": "stdout",
     "output_type": "stream",
     "text": [
      "[0]\tvalidation_0-ndcg@38:0.231507\tvalidation_1-ndcg@38:0.119377\n",
      "[1]\tvalidation_0-ndcg@38:0.231507\tvalidation_1-ndcg@38:0.119377\n",
      "[2]\tvalidation_0-ndcg@38:0.231507\tvalidation_1-ndcg@38:0.119377\n",
      "[3]\tvalidation_0-ndcg@38:0.139848\tvalidation_1-ndcg@38:0.120561\n",
      "[4]\tvalidation_0-ndcg@38:0.271074\tvalidation_1-ndcg@38:0.254019\n",
      "[5]\tvalidation_0-ndcg@38:0.271074\tvalidation_1-ndcg@38:0.254019\n",
      "[6]\tvalidation_0-ndcg@38:0.271074\tvalidation_1-ndcg@38:0.254019\n",
      "[7]\tvalidation_0-ndcg@38:0.271074\tvalidation_1-ndcg@38:0.254019\n",
      "[8]\tvalidation_0-ndcg@38:0.271074\tvalidation_1-ndcg@38:0.254019\n",
      "[9]\tvalidation_0-ndcg@38:0.354652\tvalidation_1-ndcg@38:0.273096\n",
      "[10]\tvalidation_0-ndcg@38:0.354652\tvalidation_1-ndcg@38:0.273096\n",
      "[11]\tvalidation_0-ndcg@38:0.354652\tvalidation_1-ndcg@38:0.273096\n",
      "[12]\tvalidation_0-ndcg@38:0.424574\tvalidation_1-ndcg@38:0.403007\n",
      "[13]\tvalidation_0-ndcg@38:0.556233\tvalidation_1-ndcg@38:0.519842\n",
      "[14]\tvalidation_0-ndcg@38:0.556233\tvalidation_1-ndcg@38:0.519842\n",
      "[15]\tvalidation_0-ndcg@38:0.556233\tvalidation_1-ndcg@38:0.520605\n",
      "[16]\tvalidation_0-ndcg@38:0.472072\tvalidation_1-ndcg@38:0.561506\n",
      "[17]\tvalidation_0-ndcg@38:0.488871\tvalidation_1-ndcg@38:0.536294\n",
      "[18]\tvalidation_0-ndcg@38:0.501443\tvalidation_1-ndcg@38:0.506716\n",
      "[19]\tvalidation_0-ndcg@38:0.510908\tvalidation_1-ndcg@38:0.508349\n",
      "[20]\tvalidation_0-ndcg@38:0.510908\tvalidation_1-ndcg@38:0.508349\n",
      "[21]\tvalidation_0-ndcg@38:0.510908\tvalidation_1-ndcg@38:0.488731\n",
      "[22]\tvalidation_0-ndcg@38:0.510908\tvalidation_1-ndcg@38:0.488731\n",
      "[23]\tvalidation_0-ndcg@38:0.489536\tvalidation_1-ndcg@38:0.485018\n",
      "[24]\tvalidation_0-ndcg@38:0.502187\tvalidation_1-ndcg@38:0.532293\n",
      "[25]\tvalidation_0-ndcg@38:0.501173\tvalidation_1-ndcg@38:0.506764\n",
      "[26]\tvalidation_0-ndcg@38:0.53889\tvalidation_1-ndcg@38:0.452625\n",
      "[27]\tvalidation_0-ndcg@38:0.53889\tvalidation_1-ndcg@38:0.469572\n",
      "[28]\tvalidation_0-ndcg@38:0.546348\tvalidation_1-ndcg@38:0.452204\n",
      "[29]\tvalidation_0-ndcg@38:0.546348\tvalidation_1-ndcg@38:0.452204\n",
      "[30]\tvalidation_0-ndcg@38:0.546348\tvalidation_1-ndcg@38:0.451588\n",
      "[31]\tvalidation_0-ndcg@38:0.546348\tvalidation_1-ndcg@38:0.468701\n",
      "[32]\tvalidation_0-ndcg@38:0.546348\tvalidation_1-ndcg@38:0.468827\n",
      "[33]\tvalidation_0-ndcg@38:0.544452\tvalidation_1-ndcg@38:0.452144\n",
      "[34]\tvalidation_0-ndcg@38:0.527799\tvalidation_1-ndcg@38:0.447925\n",
      "[35]\tvalidation_0-ndcg@38:0.627005\tvalidation_1-ndcg@38:0.450468\n",
      "[36]\tvalidation_0-ndcg@38:0.627005\tvalidation_1-ndcg@38:0.392288\n",
      "[37]\tvalidation_0-ndcg@38:0.627005\tvalidation_1-ndcg@38:0.392288\n",
      "[38]\tvalidation_0-ndcg@38:0.626358\tvalidation_1-ndcg@38:0.377342\n",
      "[39]\tvalidation_0-ndcg@38:0.626358\tvalidation_1-ndcg@38:0.377342\n",
      "[40]\tvalidation_0-ndcg@38:0.609895\tvalidation_1-ndcg@38:0.422915\n",
      "[41]\tvalidation_0-ndcg@38:0.610712\tvalidation_1-ndcg@38:0.408464\n",
      "[42]\tvalidation_0-ndcg@38:0.626944\tvalidation_1-ndcg@38:0.42842\n",
      "[43]\tvalidation_0-ndcg@38:0.610281\tvalidation_1-ndcg@38:0.410937\n",
      "[44]\tvalidation_0-ndcg@38:0.629996\tvalidation_1-ndcg@38:0.407923\n",
      "[45]\tvalidation_0-ndcg@38:0.673505\tvalidation_1-ndcg@38:0.404099\n",
      "[46]\tvalidation_0-ndcg@38:0.673763\tvalidation_1-ndcg@38:0.404647\n",
      "[47]\tvalidation_0-ndcg@38:0.673763\tvalidation_1-ndcg@38:0.390825\n",
      "[48]\tvalidation_0-ndcg@38:0.673763\tvalidation_1-ndcg@38:0.388428\n",
      "[49]\tvalidation_0-ndcg@38:0.673185\tvalidation_1-ndcg@38:0.388428\n",
      "[50]\tvalidation_0-ndcg@38:0.672541\tvalidation_1-ndcg@38:0.406324\n",
      "[51]\tvalidation_0-ndcg@38:0.653886\tvalidation_1-ndcg@38:0.410087\n",
      "[52]\tvalidation_0-ndcg@38:0.653886\tvalidation_1-ndcg@38:0.410087\n",
      "[53]\tvalidation_0-ndcg@38:0.629586\tvalidation_1-ndcg@38:0.414547\n",
      "[54]\tvalidation_0-ndcg@38:0.629389\tvalidation_1-ndcg@38:0.414564\n",
      "[55]\tvalidation_0-ndcg@38:0.629389\tvalidation_1-ndcg@38:0.414564\n",
      "[56]\tvalidation_0-ndcg@38:0.612403\tvalidation_1-ndcg@38:0.41396\n",
      "[57]\tvalidation_0-ndcg@38:0.612567\tvalidation_1-ndcg@38:0.413719\n",
      "[58]\tvalidation_0-ndcg@38:0.612567\tvalidation_1-ndcg@38:0.413719\n",
      "[59]\tvalidation_0-ndcg@38:0.612567\tvalidation_1-ndcg@38:0.416819\n",
      "[60]\tvalidation_0-ndcg@38:0.612998\tvalidation_1-ndcg@38:0.41755\n",
      "[61]\tvalidation_0-ndcg@38:0.612998\tvalidation_1-ndcg@38:0.41755\n",
      "[62]\tvalidation_0-ndcg@38:0.659685\tvalidation_1-ndcg@38:0.412757\n",
      "[63]\tvalidation_0-ndcg@38:0.659685\tvalidation_1-ndcg@38:0.412757\n",
      "[64]\tvalidation_0-ndcg@38:0.660496\tvalidation_1-ndcg@38:0.41313\n",
      "[65]\tvalidation_0-ndcg@38:0.658965\tvalidation_1-ndcg@38:0.414648\n",
      "[66]\tvalidation_0-ndcg@38:0.660544\tvalidation_1-ndcg@38:0.414974\n",
      "[67]\tvalidation_0-ndcg@38:0.707817\tvalidation_1-ndcg@38:0.453263\n",
      "[68]\tvalidation_0-ndcg@38:0.707817\tvalidation_1-ndcg@38:0.453263\n",
      "[69]\tvalidation_0-ndcg@38:0.707317\tvalidation_1-ndcg@38:0.453263\n",
      "[70]\tvalidation_0-ndcg@38:0.707004\tvalidation_1-ndcg@38:0.453389\n",
      "[71]\tvalidation_0-ndcg@38:0.715743\tvalidation_1-ndcg@38:0.453263\n",
      "[72]\tvalidation_0-ndcg@38:0.684155\tvalidation_1-ndcg@38:0.461781\n",
      "[73]\tvalidation_0-ndcg@38:0.688372\tvalidation_1-ndcg@38:0.444168\n",
      "[74]\tvalidation_0-ndcg@38:0.68952\tvalidation_1-ndcg@38:0.461781\n",
      "[75]\tvalidation_0-ndcg@38:0.71312\tvalidation_1-ndcg@38:0.461781\n",
      "[76]\tvalidation_0-ndcg@38:0.71312\tvalidation_1-ndcg@38:0.461171\n",
      "[77]\tvalidation_0-ndcg@38:0.734824\tvalidation_1-ndcg@38:0.465154\n",
      "[78]\tvalidation_0-ndcg@38:0.734824\tvalidation_1-ndcg@38:0.465154\n",
      "[79]\tvalidation_0-ndcg@38:0.734824\tvalidation_1-ndcg@38:0.465154\n",
      "[80]\tvalidation_0-ndcg@38:0.720348\tvalidation_1-ndcg@38:0.465154\n",
      "[81]\tvalidation_0-ndcg@38:0.719589\tvalidation_1-ndcg@38:0.465154\n",
      "[82]\tvalidation_0-ndcg@38:0.719589\tvalidation_1-ndcg@38:0.465154\n",
      "[83]\tvalidation_0-ndcg@38:0.743947\tvalidation_1-ndcg@38:0.465813\n",
      "[84]\tvalidation_0-ndcg@38:0.743947\tvalidation_1-ndcg@38:0.465671\n",
      "[85]\tvalidation_0-ndcg@38:0.765819\tvalidation_1-ndcg@38:0.469253\n",
      "[86]\tvalidation_0-ndcg@38:0.765819\tvalidation_1-ndcg@38:0.467598\n",
      "[87]\tvalidation_0-ndcg@38:0.770236\tvalidation_1-ndcg@38:0.467598\n",
      "[88]\tvalidation_0-ndcg@38:0.768756\tvalidation_1-ndcg@38:0.467598\n",
      "[89]\tvalidation_0-ndcg@38:0.768725\tvalidation_1-ndcg@38:0.446129\n",
      "[90]\tvalidation_0-ndcg@38:0.768725\tvalidation_1-ndcg@38:0.446744\n",
      "[91]\tvalidation_0-ndcg@38:0.768725\tvalidation_1-ndcg@38:0.446744\n",
      "[92]\tvalidation_0-ndcg@38:0.768725\tvalidation_1-ndcg@38:0.446881\n",
      "[93]\tvalidation_0-ndcg@38:0.768857\tvalidation_1-ndcg@38:0.446881\n",
      "[94]\tvalidation_0-ndcg@38:0.768857\tvalidation_1-ndcg@38:0.446881\n",
      "[95]\tvalidation_0-ndcg@38:0.767994\tvalidation_1-ndcg@38:0.446881\n",
      "[96]\tvalidation_0-ndcg@38:0.767712\tvalidation_1-ndcg@38:0.447588\n",
      "[97]\tvalidation_0-ndcg@38:0.767068\tvalidation_1-ndcg@38:0.44824\n",
      "[98]\tvalidation_0-ndcg@38:0.768928\tvalidation_1-ndcg@38:0.431554\n",
      "[99]\tvalidation_0-ndcg@38:0.769585\tvalidation_1-ndcg@38:0.430685\n"
     ]
    },
    {
     "data": {
      "text/plain": [
       "XGBRegressor(base_score=0.5, colsample_bylevel=1, colsample_bytree=1, gamma=0,\n",
       "       learning_rate=0.1, max_delta_step=0, max_depth=3,\n",
       "       min_child_weight=1, missing=None, n_estimators=100, nthread=-1,\n",
       "       objective='reg:linear', reg_alpha=0, reg_lambda=1,\n",
       "       scale_pos_weight=1, seed=0, silent=True, subsample=1)"
      ]
     },
     "execution_count": 49,
     "metadata": {},
     "output_type": "execute_result"
    }
   ],
   "source": [
    "# retrain\n",
    "import xgboost as xgb\n",
    "#gbm = xgb.XGBRegressor(objective='rank:pairwise')\n",
    "gbm = xgb.XGBRegressor()\n",
    "gbm.fit(train_data, train_label,\n",
    "        eval_set =[(train_data, train_label), (test_data, test_label)], \n",
    "        eval_metric=\"ndcg@38\", verbose=True)\n"
   ]
  },
  {
   "cell_type": "code",
   "execution_count": 59,
   "metadata": {
    "collapsed": false
   },
   "outputs": [
    {
     "data": {
      "text/plain": [
       "0.43068500678724025"
      ]
     },
     "execution_count": 59,
     "metadata": {},
     "output_type": "execute_result"
    }
   ],
   "source": [
    "# test the ndcg to see if the value is the same as we implemented\n",
    "result = pd.Series(gbm.predict(test_data), index=test_data.index)\n",
    "import ndcg\n",
    "new_index=result.sort_values(ascending=False).index\n",
    "r = test_label.reindex(index=new_index)\n",
    "#test_label.sort_values(ascending=False)\n",
    "ndcg.ndcg_at_k(r,38)"
   ]
  }
 ],
 "metadata": {
  "kernelspec": {
   "display_name": "Python [Root]",
   "language": "python",
   "name": "Python [Root]"
  },
  "language_info": {
   "codemirror_mode": {
    "name": "ipython",
    "version": 2
   },
   "file_extension": ".py",
   "mimetype": "text/x-python",
   "name": "python",
   "nbconvert_exporter": "python",
   "pygments_lexer": "ipython2",
   "version": "2.7.12"
  }
 },
 "nbformat": 4,
 "nbformat_minor": 0
}
